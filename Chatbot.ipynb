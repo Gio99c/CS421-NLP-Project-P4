{
  "nbformat": 4,
  "nbformat_minor": 0,
  "metadata": {
    "colab": {
      "provenance": [],
      "authorship_tag": "ABX9TyN74+qgQ/358UXapfrOHmgS",
      "include_colab_link": true
    },
    "kernelspec": {
      "name": "python3",
      "display_name": "Python 3"
    },
    "language_info": {
      "name": "python"
    }
  },
  "cells": [
    {
      "cell_type": "markdown",
      "metadata": {
        "id": "view-in-github",
        "colab_type": "text"
      },
      "source": [
        "<a href=\"https://colab.research.google.com/github/Gio99c/CS421-NLP-Project-P4/blob/main/Chatbot.ipynb\" target=\"_parent\"><img src=\"https://colab.research.google.com/assets/colab-badge.svg\" alt=\"Open In Colab\"/></a>"
      ]
    },
    {
      "cell_type": "markdown",
      "source": [
        "# **Hi!**\n"
      ],
      "metadata": {
        "id": "Rt64wK-aZQR4"
      }
    },
    {
      "cell_type": "code",
      "source": [],
      "metadata": {
        "id": "W2frLGbZaNqg"
      },
      "execution_count": null,
      "outputs": []
    }
  ]
}