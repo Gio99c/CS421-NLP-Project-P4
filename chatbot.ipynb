{
  "nbformat": 4,
  "nbformat_minor": 0,
  "metadata": {
    "colab": {
      "provenance": [],
      "mount_file_id": "https://github.com/Gio99c/CS421-NLP-Project-P4/blob/main/Chatbot.ipynb",
      "authorship_tag": "ABX9TyMwRcJqfYemc4l2jHcfK9uX",
      "include_colab_link": true
    },
    "kernelspec": {
      "name": "python3",
      "display_name": "Python 3"
    },
    "language_info": {
      "name": "python"
    }
  },
  "cells": [
    {
      "cell_type": "markdown",
      "metadata": {
        "id": "view-in-github",
        "colab_type": "text"
      },
      "source": [
        "<a href=\"https://colab.research.google.com/github/Gio99c/CS421-NLP-Project-P4/blob/main/chatbot.ipynb\" target=\"_parent\"><img src=\"https://colab.research.google.com/assets/colab-badge.svg\" alt=\"Open In Colab\"/></a>"
      ]
    },
    {
      "cell_type": "markdown",
      "source": [
        "# Hi! Welcome to the CS412 Chatbot Project\n"
      ],
      "metadata": {
        "id": "Rt64wK-aZQR4"
      }
    },
    {
      "cell_type": "markdown",
      "source": [
        "Run the cell by pressing the ▶ button below and talk with the chatbot 🤖. "
      ],
      "metadata": {
        "id": "0Cq-vHGrayE5"
      }
    },
    {
      "cell_type": "markdown",
      "source": [
        "To run the chatbot you should select the option \"Run anyway\" in the popup windows. "
      ],
      "metadata": {
        "id": "gSY_UWDTxvy3"
      }
    },
    {
      "cell_type": "markdown",
      "source": [
        "It may take some time to start the chatbot! ⏰"
      ],
      "metadata": {
        "id": "Is7k25em-djJ"
      }
    },
    {
      "cell_type": "markdown",
      "source": [
        "**Run me!**"
      ],
      "metadata": {
        "id": "Di18K8WS0ddA"
      }
    },
    {
      "cell_type": "code",
      "source": [
        "!git clone --quiet https://github.com/Gio99c/CS421-NLP-Project-P4.git > /dev/null\n",
        "%cd -q CS421-NLP-Project-P4\n",
        "!unzip w2v.pkl.zip > /dev/null\n",
        "!python project_p4.py"
      ],
      "metadata": {
        "id": "-kYu_ByKy_4q",
        "outputId": "c5dfea03-d014-4e20-efbb-d9e0db175358",
        "colab": {
          "base_uri": "https://localhost:8080/"
        }
      },
      "execution_count": null,
      "outputs": [
        {
          "output_type": "stream",
          "name": "stdout",
          "text": [
            "########################\n",
            "Welcome to GC's chatbot!\n",
            "########################\n",
            "\n",
            "What is your name?\n"
          ]
        }
      ]
    },
    {
      "cell_type": "markdown",
      "source": [
        "Feel free to play with it as much as you like! 👨‍💻"
      ],
      "metadata": {
        "id": "aYXWSzW2balf"
      }
    },
    {
      "cell_type": "markdown",
      "source": [
        "# Survey"
      ],
      "metadata": {
        "id": "IA4rse8yeQha"
      }
    },
    {
      "cell_type": "markdown",
      "source": [
        "After playing around with the chatbot, go to the following link and fill the form https://forms.gle/JH1HFQAGGdgtHDQt5"
      ],
      "metadata": {
        "id": "Tiv-F4FOetzj"
      }
    },
    {
      "cell_type": "markdown",
      "source": [
        "Thank you for your help! 🙂"
      ],
      "metadata": {
        "id": "SUlU0H_-gEG_"
      }
    }
  ]
}