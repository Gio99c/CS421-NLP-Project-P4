{
  "nbformat": 4,
  "nbformat_minor": 0,
  "metadata": {
    "colab": {
      "provenance": [],
      "mount_file_id": "https://github.com/Gio99c/CS421-NLP-Project-P4/blob/main/Chatbot.ipynb",
      "authorship_tag": "ABX9TyPhCCZoZzQp0HSvZtnoL2Jv",
      "include_colab_link": true
    },
    "kernelspec": {
      "name": "python3",
      "display_name": "Python 3"
    },
    "language_info": {
      "name": "python"
    }
  },
  "cells": [
    {
      "cell_type": "markdown",
      "metadata": {
        "id": "view-in-github",
        "colab_type": "text"
      },
      "source": [
        "<a href=\"https://colab.research.google.com/github/Gio99c/CS421-NLP-Project-P4/blob/main/chatbot.ipynb\" target=\"_parent\"><img src=\"https://colab.research.google.com/assets/colab-badge.svg\" alt=\"Open In Colab\"/></a>"
      ]
    },
    {
      "cell_type": "markdown",
      "source": [
        "# Hi! Welcome to the CS412 Chatbot Project\n"
      ],
      "metadata": {
        "id": "Rt64wK-aZQR4"
      }
    },
    {
      "cell_type": "markdown",
      "source": [
        "Run the above cell to talk with the chatbot 🤖. "
      ],
      "metadata": {
        "id": "0Cq-vHGrayE5"
      }
    },
    {
      "cell_type": "markdown",
      "source": [
        "Feel free to play with it as much as you like! 👨‍💻"
      ],
      "metadata": {
        "id": "aYXWSzW2balf"
      }
    },
    {
      "cell_type": "code",
      "source": [
        "!python project_p4.py"
      ],
      "metadata": {
        "id": "A54wxYZhbfrw",
        "outputId": "aad89a86-f8df-4776-e382-1f2bf4f01b41",
        "colab": {
          "base_uri": "https://localhost:8080/"
        }
      },
      "execution_count": 2,
      "outputs": [
        {
          "output_type": "stream",
          "name": "stdout",
          "text": [
            "python3: can't open file 'project_p4.py': [Errno 2] No such file or directory\n"
          ]
        }
      ]
    },
    {
      "cell_type": "code",
      "source": [],
      "metadata": {
        "id": "qaDuBeXFb_y1"
      },
      "execution_count": null,
      "outputs": []
    }
  ]
}